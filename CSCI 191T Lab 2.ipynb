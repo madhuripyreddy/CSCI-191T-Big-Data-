{
 "cells": [
  {
   "cell_type": "code",
   "execution_count": 1,
   "metadata": {},
   "outputs": [
    {
     "name": "stdout",
     "output_type": "stream",
     "text": [
      "[1, 4, 9, 16, 25, 36, 49, 64, 81, 100, 121, 144, 169, 196, 225, 256, 289, 324, 361, 400, 441, 484, 529, 576, 625, 676, 729, 784, 841, 900, 961]\n"
     ]
    }
   ],
   "source": [
    "lockers = [False for number_lockers in range(0,1000)] #list comprehension for range of 0 to 1,000 lockers\n",
    "for number_students in range(1,len(lockers)+1): #for loop stating that the number of students ranges from 1 to length of number_lockers incremented by 1\n",
    "    if (len(lockers)+1) % number_students == 0: #if statement saying that if length of number_lockers incremented by 1 is divisible by number_students\n",
    "        lockers = [i**2 for i in range(1,32)]  #the open lockers are shown in perfect squares since they are opened and closed three times. The reason is the perfect squares lockers are opened and closed three times and squares have three factors. \n",
    "        \n",
    "print(lockers) #print lockers that are open when doing 1,000 locker simulation"
   ]
  },
  {
   "cell_type": "code",
   "execution_count": 2,
   "metadata": {},
   "outputs": [
    {
     "name": "stdout",
     "output_type": "stream",
     "text": [
      "List of Mersenne prime numbers from 2 to 32.\n",
      "[3, 7, 31, 127, 8191, 131071, 524287, 2147483647]\n",
      "[2, 3, 5, 7, 13, 17, 19, 31]\n"
     ]
    }
   ],
   "source": [
    "import math #math module is imported for the purpose of accessing the square root function. \n",
    "\n",
    "def primecheck(x): #function definition for primecheck using the parameter x \n",
    "    for j in range(2,int(math.sqrt(x))+1): # j is for loop that prints range of values from 2 to the square root of x plus 1\n",
    "        if (x%j == 0): #if statement that states that if x is divisible by any value in the range of j (range from 2 to square root x plus 1)\n",
    "            return 0 #The statement returns nothing, because the result is not a prime number. So its returns false and jump out of the loop.\n",
    "    return 1 #The statement returns a value since the result is a prime number. So it returns True.\n",
    "      \n",
    "#test example\n",
    "print(\"List of Mersenne prime numbers from 2 to 32.\") #prints the actual statement \"List of Mersenne prime numbers from 2 to 32.\"\n",
    "MersenneList = [(2**i) - 1 for i in range(2,32) if primecheck(2**i -1)] #list comprehension for MersenneList that generates the Mersenne prime numbers based on subset of range of numbers from 2 to 32 using the conditional that primes are generated from the formula (2**i-1) \n",
    "print(MersenneList) #prints list of  Mersenne prime numbers\n",
    "i_value = [i for i in range(2,32) if primecheck(2**i -1)] #list comprehension for i_value that generates i_value candidates that are valid primes based on subset from range of numbers from 2 to 32 using a conditional that primes are generated from the formula (2**i-1)\n",
    "print(i_value) #prints i_value candidates that are valid primes from the Mersenne prime numbers formula (2**i-1)"
   ]
  },
  {
   "cell_type": "code",
   "execution_count": null,
   "metadata": {},
   "outputs": [],
   "source": []
  }
 ],
 "metadata": {
  "kernelspec": {
   "display_name": "Python 3",
   "language": "python",
   "name": "python3"
  },
  "language_info": {
   "codemirror_mode": {
    "name": "ipython",
    "version": 3
   },
   "file_extension": ".py",
   "mimetype": "text/x-python",
   "name": "python",
   "nbconvert_exporter": "python",
   "pygments_lexer": "ipython3",
   "version": "3.7.4"
  }
 },
 "nbformat": 4,
 "nbformat_minor": 2
}
