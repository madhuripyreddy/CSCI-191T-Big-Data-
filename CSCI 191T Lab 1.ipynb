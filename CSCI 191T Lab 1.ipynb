{
 "cells": [
  {
   "cell_type": "code",
   "execution_count": 2,
   "metadata": {},
   "outputs": [
    {
     "name": "stdout",
     "output_type": "stream",
     "text": [
      "Example input: 80\n",
      "output: 4√5\n",
      "(4, 5)\n",
      "(2, 10)\n"
     ]
    }
   ],
   "source": [
    "anInteger = int(input(\"Example input: \")) #anInteger input function that returns an integer\n",
    "def simplify_sqrt(anInteger): #simplify_sqrt function definition using parameters like input function anInteger\n",
    "    for i in range(2, anInteger): # for loop that loops from 2 to the second number in the range\n",
    "        div = (anInteger / (i*i)) #dividing anInteger by i squared; it returns the numbers you can pair up with \n",
    "        rem = (anInteger % (i*i)) #getting the remainder post div; it returns the remainder in square root \n",
    "        div, rem = divmod(anInteger,i*i) #divMod gets the dividing number and the remainder squared\n",
    "        if rem == 0:    #if remainder is zero repeat with div\n",
    "            square1, square2 = simplify_sqrt(div) # keep dividing number evenly by 2 by squaring it\n",
    "            return (i * square1, square2)   #return the simplified tuple obtained by multiply square1 with i\n",
    "        if div == 0:    #if the division is zero break because there is no need to recure more\n",
    "            break #statement that terminates loop \n",
    "    return (1, anInteger) #base condition that says we start from number n then start dividing it\n",
    "def format_num(simplified_tuple): #format_num function definition that uses parameters like simplified_tuple for formatting the tuple for print\n",
    "    return str(simplified_tuple[0])+\"√\"+str(simplified_tuple[1]) # tuple that returns the string that includes the pairs multiplied with squared remainder in index 0 and index 1\n",
    "\n",
    "\n",
    "def simplify_root(n,root_degree): #simplify_root function definition using parameters like input functions num and root_degree\n",
    "    for i in range(2, n): #for loop that prints the values from 2 up to anInteger\n",
    "        div = (n / (i*i)) #dividing num by i squared or cubed basing on parameter passed\n",
    "        rem = (n % (i*i)) #getting the remainder post div\n",
    "        div, rem = divmod(n,i**root_degree) #divMod gets dividing number and remainder to the root power\n",
    "        if rem == 0:    #if remainder is zero recurse with div\n",
    "            root1, root2 = simplify_root(div,root_degree)\n",
    "            return (i * root1, root2)   #return the simplified tuple obtained by multiply square1 with i\n",
    "        if div == 0:    #if the division is zero break no need to recure more\n",
    "            break #statement that terminates loop \n",
    "    return (1,n) #base condition that returns n after multiplying the pair of numbers with cubed remainder \n",
    "\n",
    "#test examples\n",
    "res_tuple = simplify_sqrt(anInteger)\n",
    "print(\"output:\", format_num(res_tuple))\n",
    "print(simplify_root(anInteger,2)) #first element in tuple gives the result outside root.second inside the root like 4√5                                                                                                                                                                          \n",
    "print(simplify_root(anInteger,3)) #first element in tuple gives the result outside root.second inside the root like 2cube√10"
   ]
  },
  {
   "cell_type": "code",
   "execution_count": 3,
   "metadata": {},
   "outputs": [
    {
     "name": "stdout",
     "output_type": "stream",
     "text": [
      "Input a long integer: 3541298\n",
      "Input a digit: 2\n",
      "output: 1320076\n"
     ]
    }
   ],
   "source": [
    "anInteger1 = int(input(\"Input a long integer: \")) #anInteger1 input function that returns an integer\n",
    "anInteger2 = int(input(\"Input a digit: \")) #anInteger2 input function that returns a digit\n",
    "def convert(anInteger1,anInteger2): #convert function definition using parameters like input functions anInteger1 and anInteger2\n",
    "    anInteger1_str = str(anInteger1) #convert long anInteger1 to string anInteger1 so that we subtract 1 digit from each digit of long integer\n",
    "    res = \"\" #result is printed in string\n",
    "    for digit_s in str(anInteger1) : #for loop that iterates over digit string in string anInteger1\n",
    "        diff = int(digit_s)-int(anInteger2) #subtract anInteger2(digit) from the digit being iterated from anInteger1_str(str(anInteger1))\n",
    "        if diff > 0: #This is if-else statement. If diff is greater then diff is appended to the res\n",
    "            res = res + str(diff) # result diff is added to string\n",
    "        else: #else 0 is appended to the res\n",
    "            res = res + str(0) #result 0 is added to the string \n",
    "    return res #returning result\n",
    "#test example\n",
    "print(\"output:\", convert(anInteger1,anInteger2)) #prints output "
   ]
  },
  {
   "cell_type": "code",
   "execution_count": null,
   "metadata": {},
   "outputs": [],
   "source": []
  }
 ],
 "metadata": {
  "kernelspec": {
   "display_name": "Python 3",
   "language": "python",
   "name": "python3"
  },
  "language_info": {
   "codemirror_mode": {
    "name": "ipython",
    "version": 3
   },
   "file_extension": ".py",
   "mimetype": "text/x-python",
   "name": "python",
   "nbconvert_exporter": "python",
   "pygments_lexer": "ipython3",
   "version": "3.7.4"
  }
 },
 "nbformat": 4,
 "nbformat_minor": 2
}
