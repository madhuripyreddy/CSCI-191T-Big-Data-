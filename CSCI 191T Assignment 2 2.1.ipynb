{
 "cells": [
  {
   "cell_type": "code",
   "execution_count": 1,
   "metadata": {},
   "outputs": [
    {
     "data": {
      "text/html": [
       "<div>\n",
       "<style scoped>\n",
       "    .dataframe tbody tr th:only-of-type {\n",
       "        vertical-align: middle;\n",
       "    }\n",
       "\n",
       "    .dataframe tbody tr th {\n",
       "        vertical-align: top;\n",
       "    }\n",
       "\n",
       "    .dataframe thead th {\n",
       "        text-align: right;\n",
       "    }\n",
       "</style>\n",
       "<table border=\"1\" class=\"dataframe\">\n",
       "  <thead>\n",
       "    <tr style=\"text-align: right;\">\n",
       "      <th></th>\n",
       "      <th>Year</th>\n",
       "      <th># of Severe Sepsis Cases</th>\n",
       "      <th># of Hospital-acquired Severe Sepsis Cases</th>\n",
       "      <th># of Non-hospital-acquired Severe Sepsis Cases</th>\n",
       "      <th>% of Severe Sepsis In-Hospital Deaths</th>\n",
       "    </tr>\n",
       "  </thead>\n",
       "  <tbody>\n",
       "    <tr>\n",
       "      <td>0</td>\n",
       "      <td>2010</td>\n",
       "      <td>118686</td>\n",
       "      <td>19350</td>\n",
       "      <td>99336</td>\n",
       "      <td>24.5</td>\n",
       "    </tr>\n",
       "    <tr>\n",
       "      <td>1</td>\n",
       "      <td>2011</td>\n",
       "      <td>131330</td>\n",
       "      <td>19809</td>\n",
       "      <td>111521</td>\n",
       "      <td>23.2</td>\n",
       "    </tr>\n",
       "    <tr>\n",
       "      <td>2</td>\n",
       "      <td>2012</td>\n",
       "      <td>138169</td>\n",
       "      <td>19072</td>\n",
       "      <td>119097</td>\n",
       "      <td>21.9</td>\n",
       "    </tr>\n",
       "    <tr>\n",
       "      <td>3</td>\n",
       "      <td>2013</td>\n",
       "      <td>153387</td>\n",
       "      <td>18808</td>\n",
       "      <td>134579</td>\n",
       "      <td>20.5</td>\n",
       "    </tr>\n",
       "    <tr>\n",
       "      <td>4</td>\n",
       "      <td>2014</td>\n",
       "      <td>172471</td>\n",
       "      <td>18685</td>\n",
       "      <td>153786</td>\n",
       "      <td>18.6</td>\n",
       "    </tr>\n",
       "    <tr>\n",
       "      <td>5</td>\n",
       "      <td>2015</td>\n",
       "      <td>196823</td>\n",
       "      <td>18929</td>\n",
       "      <td>177894</td>\n",
       "      <td>17.4</td>\n",
       "    </tr>\n",
       "    <tr>\n",
       "      <td>6</td>\n",
       "      <td>2016</td>\n",
       "      <td>209409</td>\n",
       "      <td>19119</td>\n",
       "      <td>190290</td>\n",
       "      <td>16.8</td>\n",
       "    </tr>\n",
       "    <tr>\n",
       "      <td>7</td>\n",
       "      <td>2017</td>\n",
       "      <td>237911</td>\n",
       "      <td>20230</td>\n",
       "      <td>217681</td>\n",
       "      <td>15.5</td>\n",
       "    </tr>\n",
       "  </tbody>\n",
       "</table>\n",
       "</div>"
      ],
      "text/plain": [
       "   Year  # of Severe Sepsis Cases  # of Hospital-acquired Severe Sepsis Cases  \\\n",
       "0  2010                    118686                                       19350   \n",
       "1  2011                    131330                                       19809   \n",
       "2  2012                    138169                                       19072   \n",
       "3  2013                    153387                                       18808   \n",
       "4  2014                    172471                                       18685   \n",
       "5  2015                    196823                                       18929   \n",
       "6  2016                    209409                                       19119   \n",
       "7  2017                    237911                                       20230   \n",
       "\n",
       "   # of Non-hospital-acquired Severe Sepsis Cases  \\\n",
       "0                                           99336   \n",
       "1                                          111521   \n",
       "2                                          119097   \n",
       "3                                          134579   \n",
       "4                                          153786   \n",
       "5                                          177894   \n",
       "6                                          190290   \n",
       "7                                          217681   \n",
       "\n",
       "   % of Severe Sepsis In-Hospital Deaths  \n",
       "0                                   24.5  \n",
       "1                                   23.2  \n",
       "2                                   21.9  \n",
       "3                                   20.5  \n",
       "4                                   18.6  \n",
       "5                                   17.4  \n",
       "6                                   16.8  \n",
       "7                                   15.5  "
      ]
     },
     "execution_count": 1,
     "metadata": {},
     "output_type": "execute_result"
    }
   ],
   "source": [
    "import matplotlib.pyplot as plt\n",
    "import numpy as np\n",
    "import pandas as pd\n",
    "data=pd.read_csv(\"./Downloads/severe-sepsis-in-hospital-mortality.csv\");\n",
    "data.head(20)"
   ]
  },
  {
   "cell_type": "code",
   "execution_count": 2,
   "metadata": {},
   "outputs": [
    {
     "data": {
      "text/html": [
       "<div>\n",
       "<style scoped>\n",
       "    .dataframe tbody tr th:only-of-type {\n",
       "        vertical-align: middle;\n",
       "    }\n",
       "\n",
       "    .dataframe tbody tr th {\n",
       "        vertical-align: top;\n",
       "    }\n",
       "\n",
       "    .dataframe thead th {\n",
       "        text-align: right;\n",
       "    }\n",
       "</style>\n",
       "<table border=\"1\" class=\"dataframe\">\n",
       "  <thead>\n",
       "    <tr style=\"text-align: right;\">\n",
       "      <th></th>\n",
       "      <th>Year</th>\n",
       "      <th># of Severe Sepsis Cases</th>\n",
       "      <th># of Hospital-acquired Severe Sepsis Cases</th>\n",
       "      <th># of Non-hospital-acquired Severe Sepsis Cases</th>\n",
       "      <th>% of Severe Sepsis In-Hospital Deaths</th>\n",
       "    </tr>\n",
       "  </thead>\n",
       "  <tbody>\n",
       "    <tr>\n",
       "      <td>Year</td>\n",
       "      <td>1.000000</td>\n",
       "      <td>0.987524</td>\n",
       "      <td>0.119248</td>\n",
       "      <td>0.988974</td>\n",
       "      <td>-0.995269</td>\n",
       "    </tr>\n",
       "    <tr>\n",
       "      <td># of Severe Sepsis Cases</td>\n",
       "      <td>0.987524</td>\n",
       "      <td>1.000000</td>\n",
       "      <td>0.243038</td>\n",
       "      <td>0.999925</td>\n",
       "      <td>-0.978174</td>\n",
       "    </tr>\n",
       "    <tr>\n",
       "      <td># of Hospital-acquired Severe Sepsis Cases</td>\n",
       "      <td>0.119248</td>\n",
       "      <td>0.243038</td>\n",
       "      <td>1.000000</td>\n",
       "      <td>0.231143</td>\n",
       "      <td>-0.057345</td>\n",
       "    </tr>\n",
       "    <tr>\n",
       "      <td># of Non-hospital-acquired Severe Sepsis Cases</td>\n",
       "      <td>0.988974</td>\n",
       "      <td>0.999925</td>\n",
       "      <td>0.231143</td>\n",
       "      <td>1.000000</td>\n",
       "      <td>-0.980378</td>\n",
       "    </tr>\n",
       "    <tr>\n",
       "      <td>% of Severe Sepsis In-Hospital Deaths</td>\n",
       "      <td>-0.995269</td>\n",
       "      <td>-0.978174</td>\n",
       "      <td>-0.057345</td>\n",
       "      <td>-0.980378</td>\n",
       "      <td>1.000000</td>\n",
       "    </tr>\n",
       "  </tbody>\n",
       "</table>\n",
       "</div>"
      ],
      "text/plain": [
       "                                                    Year  \\\n",
       "Year                                            1.000000   \n",
       "# of Severe Sepsis Cases                        0.987524   \n",
       "# of Hospital-acquired Severe Sepsis Cases      0.119248   \n",
       "# of Non-hospital-acquired Severe Sepsis Cases  0.988974   \n",
       "% of Severe Sepsis In-Hospital Deaths          -0.995269   \n",
       "\n",
       "                                                # of Severe Sepsis Cases  \\\n",
       "Year                                                            0.987524   \n",
       "# of Severe Sepsis Cases                                        1.000000   \n",
       "# of Hospital-acquired Severe Sepsis Cases                      0.243038   \n",
       "# of Non-hospital-acquired Severe Sepsis Cases                  0.999925   \n",
       "% of Severe Sepsis In-Hospital Deaths                          -0.978174   \n",
       "\n",
       "                                                # of Hospital-acquired Severe Sepsis Cases  \\\n",
       "Year                                                                              0.119248   \n",
       "# of Severe Sepsis Cases                                                          0.243038   \n",
       "# of Hospital-acquired Severe Sepsis Cases                                        1.000000   \n",
       "# of Non-hospital-acquired Severe Sepsis Cases                                    0.231143   \n",
       "% of Severe Sepsis In-Hospital Deaths                                            -0.057345   \n",
       "\n",
       "                                                # of Non-hospital-acquired Severe Sepsis Cases  \\\n",
       "Year                                                                                  0.988974   \n",
       "# of Severe Sepsis Cases                                                              0.999925   \n",
       "# of Hospital-acquired Severe Sepsis Cases                                            0.231143   \n",
       "# of Non-hospital-acquired Severe Sepsis Cases                                        1.000000   \n",
       "% of Severe Sepsis In-Hospital Deaths                                                -0.980378   \n",
       "\n",
       "                                                % of Severe Sepsis In-Hospital Deaths  \n",
       "Year                                                                        -0.995269  \n",
       "# of Severe Sepsis Cases                                                    -0.978174  \n",
       "# of Hospital-acquired Severe Sepsis Cases                                  -0.057345  \n",
       "# of Non-hospital-acquired Severe Sepsis Cases                              -0.980378  \n",
       "% of Severe Sepsis In-Hospital Deaths                                        1.000000  "
      ]
     },
     "execution_count": 2,
     "metadata": {},
     "output_type": "execute_result"
    }
   ],
   "source": [
    "data.corr()"
   ]
  },
  {
   "cell_type": "code",
   "execution_count": 3,
   "metadata": {},
   "outputs": [
    {
     "data": {
      "text/plain": [
       "2013.5"
      ]
     },
     "execution_count": 3,
     "metadata": {},
     "output_type": "execute_result"
    }
   ],
   "source": [
    "data['Year'].mean()"
   ]
  },
  {
   "cell_type": "code",
   "execution_count": 4,
   "metadata": {},
   "outputs": [
    {
     "data": {
      "text/plain": [
       "2013.5"
      ]
     },
     "execution_count": 4,
     "metadata": {},
     "output_type": "execute_result"
    }
   ],
   "source": [
    "data['Year'].median()"
   ]
  },
  {
   "cell_type": "code",
   "execution_count": 5,
   "metadata": {},
   "outputs": [
    {
     "data": {
      "text/plain": [
       "0    2010\n",
       "1    2011\n",
       "2    2012\n",
       "3    2013\n",
       "4    2014\n",
       "5    2015\n",
       "6    2016\n",
       "7    2017\n",
       "dtype: int64"
      ]
     },
     "execution_count": 5,
     "metadata": {},
     "output_type": "execute_result"
    }
   ],
   "source": [
    "data['Year'].mode()"
   ]
  },
  {
   "cell_type": "code",
   "execution_count": 6,
   "metadata": {},
   "outputs": [
    {
     "data": {
      "text/plain": [
       "2.449489742783178"
      ]
     },
     "execution_count": 6,
     "metadata": {},
     "output_type": "execute_result"
    }
   ],
   "source": [
    "data['Year'].std()"
   ]
  },
  {
   "cell_type": "code",
   "execution_count": 7,
   "metadata": {},
   "outputs": [
    {
     "data": {
      "text/plain": [
       "6.0"
      ]
     },
     "execution_count": 7,
     "metadata": {},
     "output_type": "execute_result"
    }
   ],
   "source": [
    "data['Year'].var()"
   ]
  },
  {
   "cell_type": "code",
   "execution_count": 8,
   "metadata": {},
   "outputs": [
    {
     "data": {
      "text/plain": [
       "count       8.00000\n",
       "mean     2013.50000\n",
       "std         2.44949\n",
       "min      2010.00000\n",
       "25%      2011.75000\n",
       "50%      2013.50000\n",
       "75%      2015.25000\n",
       "max      2017.00000\n",
       "Name: Year, dtype: float64"
      ]
     },
     "execution_count": 8,
     "metadata": {},
     "output_type": "execute_result"
    }
   ],
   "source": [
    "data['Year'].describe()"
   ]
  },
  {
   "cell_type": "code",
   "execution_count": 9,
   "metadata": {},
   "outputs": [
    {
     "data": {
      "text/plain": [
       "169773.25"
      ]
     },
     "execution_count": 9,
     "metadata": {},
     "output_type": "execute_result"
    }
   ],
   "source": [
    "data['# of Severe Sepsis Cases'].mean()"
   ]
  },
  {
   "cell_type": "code",
   "execution_count": 11,
   "metadata": {},
   "outputs": [
    {
     "data": {
      "text/plain": [
       "162929.0"
      ]
     },
     "execution_count": 11,
     "metadata": {},
     "output_type": "execute_result"
    }
   ],
   "source": [
    "data['# of Severe Sepsis Cases'].median()"
   ]
  },
  {
   "cell_type": "code",
   "execution_count": 12,
   "metadata": {},
   "outputs": [
    {
     "data": {
      "text/plain": [
       "0    118686\n",
       "1    131330\n",
       "2    138169\n",
       "3    153387\n",
       "4    172471\n",
       "5    196823\n",
       "6    209409\n",
       "7    237911\n",
       "dtype: int64"
      ]
     },
     "execution_count": 12,
     "metadata": {},
     "output_type": "execute_result"
    }
   ],
   "source": [
    "data['# of Severe Sepsis Cases'].mode()"
   ]
  },
  {
   "cell_type": "code",
   "execution_count": 13,
   "metadata": {},
   "outputs": [
    {
     "data": {
      "text/plain": [
       "41931.64654444864"
      ]
     },
     "execution_count": 13,
     "metadata": {},
     "output_type": "execute_result"
    }
   ],
   "source": [
    "data['# of Severe Sepsis Cases'].std()"
   ]
  },
  {
   "cell_type": "code",
   "execution_count": 14,
   "metadata": {},
   "outputs": [
    {
     "data": {
      "text/plain": [
       "1758262981.9285715"
      ]
     },
     "execution_count": 14,
     "metadata": {},
     "output_type": "execute_result"
    }
   ],
   "source": [
    "data['# of Severe Sepsis Cases'].var()"
   ]
  },
  {
   "cell_type": "code",
   "execution_count": 15,
   "metadata": {},
   "outputs": [
    {
     "data": {
      "text/plain": [
       "count         8.000000\n",
       "mean     169773.250000\n",
       "std       41931.646544\n",
       "min      118686.000000\n",
       "25%      136459.250000\n",
       "50%      162929.000000\n",
       "75%      199969.500000\n",
       "max      237911.000000\n",
       "Name: # of Severe Sepsis Cases, dtype: float64"
      ]
     },
     "execution_count": 15,
     "metadata": {},
     "output_type": "execute_result"
    }
   ],
   "source": [
    "data['# of Severe Sepsis Cases'].describe()"
   ]
  },
  {
   "cell_type": "code",
   "execution_count": 16,
   "metadata": {},
   "outputs": [
    {
     "data": {
      "text/html": [
       "<div>\n",
       "<style scoped>\n",
       "    .dataframe tbody tr th:only-of-type {\n",
       "        vertical-align: middle;\n",
       "    }\n",
       "\n",
       "    .dataframe tbody tr th {\n",
       "        vertical-align: top;\n",
       "    }\n",
       "\n",
       "    .dataframe thead th {\n",
       "        text-align: right;\n",
       "    }\n",
       "</style>\n",
       "<table border=\"1\" class=\"dataframe\">\n",
       "  <thead>\n",
       "    <tr style=\"text-align: right;\">\n",
       "      <th></th>\n",
       "      <th>Year</th>\n",
       "      <th># of Severe Sepsis Cases</th>\n",
       "      <th># of Hospital-acquired Severe Sepsis Cases</th>\n",
       "      <th># of Non-hospital-acquired Severe Sepsis Cases</th>\n",
       "      <th>% of Severe Sepsis In-Hospital Deaths</th>\n",
       "    </tr>\n",
       "  </thead>\n",
       "  <tbody>\n",
       "    <tr>\n",
       "      <td>0</td>\n",
       "      <td>2010</td>\n",
       "      <td>118686</td>\n",
       "      <td>19350</td>\n",
       "      <td>99336</td>\n",
       "      <td>24.5</td>\n",
       "    </tr>\n",
       "    <tr>\n",
       "      <td>1</td>\n",
       "      <td>2011</td>\n",
       "      <td>131330</td>\n",
       "      <td>19809</td>\n",
       "      <td>111521</td>\n",
       "      <td>23.2</td>\n",
       "    </tr>\n",
       "    <tr>\n",
       "      <td>2</td>\n",
       "      <td>2012</td>\n",
       "      <td>138169</td>\n",
       "      <td>19072</td>\n",
       "      <td>119097</td>\n",
       "      <td>21.9</td>\n",
       "    </tr>\n",
       "    <tr>\n",
       "      <td>3</td>\n",
       "      <td>2013</td>\n",
       "      <td>153387</td>\n",
       "      <td>18808</td>\n",
       "      <td>134579</td>\n",
       "      <td>20.5</td>\n",
       "    </tr>\n",
       "    <tr>\n",
       "      <td>4</td>\n",
       "      <td>2014</td>\n",
       "      <td>172471</td>\n",
       "      <td>18685</td>\n",
       "      <td>153786</td>\n",
       "      <td>18.6</td>\n",
       "    </tr>\n",
       "    <tr>\n",
       "      <td>5</td>\n",
       "      <td>2015</td>\n",
       "      <td>196823</td>\n",
       "      <td>18929</td>\n",
       "      <td>177894</td>\n",
       "      <td>17.4</td>\n",
       "    </tr>\n",
       "    <tr>\n",
       "      <td>6</td>\n",
       "      <td>2016</td>\n",
       "      <td>209409</td>\n",
       "      <td>19119</td>\n",
       "      <td>190290</td>\n",
       "      <td>16.8</td>\n",
       "    </tr>\n",
       "    <tr>\n",
       "      <td>7</td>\n",
       "      <td>2017</td>\n",
       "      <td>237911</td>\n",
       "      <td>20230</td>\n",
       "      <td>217681</td>\n",
       "      <td>15.5</td>\n",
       "    </tr>\n",
       "  </tbody>\n",
       "</table>\n",
       "</div>"
      ],
      "text/plain": [
       "   Year  # of Severe Sepsis Cases  # of Hospital-acquired Severe Sepsis Cases  \\\n",
       "0  2010                    118686                                       19350   \n",
       "1  2011                    131330                                       19809   \n",
       "2  2012                    138169                                       19072   \n",
       "3  2013                    153387                                       18808   \n",
       "4  2014                    172471                                       18685   \n",
       "5  2015                    196823                                       18929   \n",
       "6  2016                    209409                                       19119   \n",
       "7  2017                    237911                                       20230   \n",
       "\n",
       "   # of Non-hospital-acquired Severe Sepsis Cases  \\\n",
       "0                                           99336   \n",
       "1                                          111521   \n",
       "2                                          119097   \n",
       "3                                          134579   \n",
       "4                                          153786   \n",
       "5                                          177894   \n",
       "6                                          190290   \n",
       "7                                          217681   \n",
       "\n",
       "   % of Severe Sepsis In-Hospital Deaths  \n",
       "0                                   24.5  \n",
       "1                                   23.2  \n",
       "2                                   21.9  \n",
       "3                                   20.5  \n",
       "4                                   18.6  \n",
       "5                                   17.4  \n",
       "6                                   16.8  \n",
       "7                                   15.5  "
      ]
     },
     "execution_count": 16,
     "metadata": {},
     "output_type": "execute_result"
    }
   ],
   "source": [
    "import matplotlib.pyplot as plt\n",
    "import numpy as np\n",
    "import pandas as pd\n",
    "import pandas as pd\n",
    "data=pd.read_csv(\"./Downloads/severe-sepsis-in-hospital-mortality.csv\");\n",
    "data.head(20)"
   ]
  },
  {
   "cell_type": "code",
   "execution_count": 17,
   "metadata": {},
   "outputs": [
    {
     "data": {
      "text/html": [
       "<div>\n",
       "<style scoped>\n",
       "    .dataframe tbody tr th:only-of-type {\n",
       "        vertical-align: middle;\n",
       "    }\n",
       "\n",
       "    .dataframe tbody tr th {\n",
       "        vertical-align: top;\n",
       "    }\n",
       "\n",
       "    .dataframe thead th {\n",
       "        text-align: right;\n",
       "    }\n",
       "</style>\n",
       "<table border=\"1\" class=\"dataframe\">\n",
       "  <thead>\n",
       "    <tr style=\"text-align: right;\">\n",
       "      <th></th>\n",
       "      <th>Year</th>\n",
       "      <th># of Severe Sepsis Cases</th>\n",
       "      <th># of Hospital-acquired Severe Sepsis Cases</th>\n",
       "      <th>% of Severe Sepsis In-Hospital Deaths</th>\n",
       "    </tr>\n",
       "  </thead>\n",
       "  <tbody>\n",
       "    <tr>\n",
       "      <td>0</td>\n",
       "      <td>2010</td>\n",
       "      <td>118686</td>\n",
       "      <td>19350</td>\n",
       "      <td>24.5</td>\n",
       "    </tr>\n",
       "    <tr>\n",
       "      <td>1</td>\n",
       "      <td>2011</td>\n",
       "      <td>131330</td>\n",
       "      <td>19809</td>\n",
       "      <td>23.2</td>\n",
       "    </tr>\n",
       "    <tr>\n",
       "      <td>2</td>\n",
       "      <td>2012</td>\n",
       "      <td>138169</td>\n",
       "      <td>19072</td>\n",
       "      <td>21.9</td>\n",
       "    </tr>\n",
       "    <tr>\n",
       "      <td>3</td>\n",
       "      <td>2013</td>\n",
       "      <td>153387</td>\n",
       "      <td>18808</td>\n",
       "      <td>20.5</td>\n",
       "    </tr>\n",
       "    <tr>\n",
       "      <td>4</td>\n",
       "      <td>2014</td>\n",
       "      <td>172471</td>\n",
       "      <td>18685</td>\n",
       "      <td>18.6</td>\n",
       "    </tr>\n",
       "  </tbody>\n",
       "</table>\n",
       "</div>"
      ],
      "text/plain": [
       "   Year  # of Severe Sepsis Cases  # of Hospital-acquired Severe Sepsis Cases  \\\n",
       "0  2010                    118686                                       19350   \n",
       "1  2011                    131330                                       19809   \n",
       "2  2012                    138169                                       19072   \n",
       "3  2013                    153387                                       18808   \n",
       "4  2014                    172471                                       18685   \n",
       "\n",
       "   % of Severe Sepsis In-Hospital Deaths  \n",
       "0                                   24.5  \n",
       "1                                   23.2  \n",
       "2                                   21.9  \n",
       "3                                   20.5  \n",
       "4                                   18.6  "
      ]
     },
     "execution_count": 17,
     "metadata": {},
     "output_type": "execute_result"
    }
   ],
   "source": [
    "data = data.drop('# of Non-hospital-acquired Severe Sepsis Cases',axis=1)\n",
    "data.head()"
   ]
  },
  {
   "cell_type": "code",
   "execution_count": 18,
   "metadata": {},
   "outputs": [
    {
     "data": {
      "text/html": [
       "<div>\n",
       "<style scoped>\n",
       "    .dataframe tbody tr th:only-of-type {\n",
       "        vertical-align: middle;\n",
       "    }\n",
       "\n",
       "    .dataframe tbody tr th {\n",
       "        vertical-align: top;\n",
       "    }\n",
       "\n",
       "    .dataframe thead th {\n",
       "        text-align: right;\n",
       "    }\n",
       "</style>\n",
       "<table border=\"1\" class=\"dataframe\">\n",
       "  <thead>\n",
       "    <tr style=\"text-align: right;\">\n",
       "      <th></th>\n",
       "      <th>Year</th>\n",
       "      <th># of Severe Sepsis Cases</th>\n",
       "      <th># of Hospital-acquired Severe Sepsis Cases</th>\n",
       "    </tr>\n",
       "  </thead>\n",
       "  <tbody>\n",
       "    <tr>\n",
       "      <td>0</td>\n",
       "      <td>2010</td>\n",
       "      <td>118686</td>\n",
       "      <td>19350</td>\n",
       "    </tr>\n",
       "    <tr>\n",
       "      <td>1</td>\n",
       "      <td>2011</td>\n",
       "      <td>131330</td>\n",
       "      <td>19809</td>\n",
       "    </tr>\n",
       "    <tr>\n",
       "      <td>2</td>\n",
       "      <td>2012</td>\n",
       "      <td>138169</td>\n",
       "      <td>19072</td>\n",
       "    </tr>\n",
       "    <tr>\n",
       "      <td>3</td>\n",
       "      <td>2013</td>\n",
       "      <td>153387</td>\n",
       "      <td>18808</td>\n",
       "    </tr>\n",
       "    <tr>\n",
       "      <td>4</td>\n",
       "      <td>2014</td>\n",
       "      <td>172471</td>\n",
       "      <td>18685</td>\n",
       "    </tr>\n",
       "  </tbody>\n",
       "</table>\n",
       "</div>"
      ],
      "text/plain": [
       "   Year  # of Severe Sepsis Cases  # of Hospital-acquired Severe Sepsis Cases\n",
       "0  2010                    118686                                       19350\n",
       "1  2011                    131330                                       19809\n",
       "2  2012                    138169                                       19072\n",
       "3  2013                    153387                                       18808\n",
       "4  2014                    172471                                       18685"
      ]
     },
     "execution_count": 18,
     "metadata": {},
     "output_type": "execute_result"
    }
   ],
   "source": [
    "data = data.drop('% of Severe Sepsis In-Hospital Deaths',axis=1)\n",
    "data.head()"
   ]
  },
  {
   "cell_type": "code",
   "execution_count": 19,
   "metadata": {},
   "outputs": [
    {
     "data": {
      "text/html": [
       "<div>\n",
       "<style scoped>\n",
       "    .dataframe tbody tr th:only-of-type {\n",
       "        vertical-align: middle;\n",
       "    }\n",
       "\n",
       "    .dataframe tbody tr th {\n",
       "        vertical-align: top;\n",
       "    }\n",
       "\n",
       "    .dataframe thead th {\n",
       "        text-align: right;\n",
       "    }\n",
       "</style>\n",
       "<table border=\"1\" class=\"dataframe\">\n",
       "  <thead>\n",
       "    <tr style=\"text-align: right;\">\n",
       "      <th></th>\n",
       "      <th>Year</th>\n",
       "      <th># of Severe Sepsis Cases</th>\n",
       "    </tr>\n",
       "  </thead>\n",
       "  <tbody>\n",
       "    <tr>\n",
       "      <td>0</td>\n",
       "      <td>2010</td>\n",
       "      <td>118686</td>\n",
       "    </tr>\n",
       "    <tr>\n",
       "      <td>1</td>\n",
       "      <td>2011</td>\n",
       "      <td>131330</td>\n",
       "    </tr>\n",
       "    <tr>\n",
       "      <td>2</td>\n",
       "      <td>2012</td>\n",
       "      <td>138169</td>\n",
       "    </tr>\n",
       "    <tr>\n",
       "      <td>3</td>\n",
       "      <td>2013</td>\n",
       "      <td>153387</td>\n",
       "    </tr>\n",
       "    <tr>\n",
       "      <td>4</td>\n",
       "      <td>2014</td>\n",
       "      <td>172471</td>\n",
       "    </tr>\n",
       "  </tbody>\n",
       "</table>\n",
       "</div>"
      ],
      "text/plain": [
       "   Year  # of Severe Sepsis Cases\n",
       "0  2010                    118686\n",
       "1  2011                    131330\n",
       "2  2012                    138169\n",
       "3  2013                    153387\n",
       "4  2014                    172471"
      ]
     },
     "execution_count": 19,
     "metadata": {},
     "output_type": "execute_result"
    }
   ],
   "source": [
    "data = data.drop('# of Hospital-acquired Severe Sepsis Cases',axis=1)\n",
    "data.head()"
   ]
  },
  {
   "cell_type": "code",
   "execution_count": 20,
   "metadata": {},
   "outputs": [
    {
     "data": {
      "image/png": "[encoded data removed]",
      "text/plain": [
       "<Figure size 1440x720 with 1 Axes>"
      ]
     },
     "metadata": {
      "needs_background": "light"
     },
     "output_type": "display_data"
    }
   ],
   "source": [
    "y=data['# of Severe Sepsis Cases']\n",
    "x=data.Year\n",
    "\n",
    "%matplotlib inline\n",
    "\n",
    "from matplotlib import pyplot as plt\n",
    "\n",
    "# Increase the size of the plot\n",
    "plt.figure(figsize=(20,10))\n",
    "\n",
    "# Create a scatter plot: Number of stores in the District vs. Annual Net Sales\n",
    "plt.plot(x,y, 'o', markersize = 15)\n",
    "\n",
    "# Add axis labels and increase the font size\n",
    "plt.ylabel('# of Severe Sepsis Cases', fontsize = 30)\n",
    "plt.xlabel('Year', fontsize = 30)\n",
    "\n",
    "# Increase the font size on the ticks on the x and y axis\n",
    "plt.xticks(fontsize = 20)\n",
    "plt.yticks(fontsize = 20)\n",
    "\n",
    "# Display the scatter plot\n",
    "plt.show()"
   ]
  },
  {
   "cell_type": "code",
   "execution_count": 21,
   "metadata": {},
   "outputs": [
    {
     "name": "stdout",
     "output_type": "stream",
     "text": [
      "The slope of line is 16904.95.\n",
      "The y-intercept is -33868348.37.\n",
      "The best fit simple linear regression line is 16904.95x + -33868348.37.\n"
     ]
    }
   ],
   "source": [
    "import matplotlib.pyplot as plt\n",
    "import numpy as np\n",
    "import pandas as pd\n",
    "m, b = np.polyfit(x,y,1) \n",
    "print ('The slope of line is {:.2f}.'.format(m))\n",
    "print ('The y-intercept is {:.2f}.'.format(b))\n",
    "print ('The best fit simple linear regression line is {:.2f}x + {:.2f}.'.format(m,b))"
   ]
  },
  {
   "cell_type": "code",
   "execution_count": 22,
   "metadata": {},
   "outputs": [
    {
     "name": "stdout",
     "output_type": "stream",
     "text": [
      "The centroid for this dataset is x = 2013.50 and y = 169773.25.\n"
     ]
    }
   ],
   "source": [
    "%matplotlib inline\n",
    "\n",
    "# Code Cell 9\n",
    "# y coordinate for centroid\n",
    "y_mean = y.mean()    \n",
    "# x coordinate for centroid\n",
    "x_mean = x.mean()\n",
    "print ('The centroid for this dataset is x = {:.2f} and y = {:.2f}.'.format(x_mean, y_mean))"
   ]
  },
  {
   "cell_type": "code",
   "execution_count": 23,
   "metadata": {},
   "outputs": [
    {
     "data": {
      "text/plain": [
       "<matplotlib.legend.Legend at 0x2a4014bb088>"
      ]
     },
     "execution_count": 23,
     "metadata": {},
     "output_type": "execute_result"
    },
    {
     "data": {
      "image/png": "[encoded data removed]",
      "text/plain": [
       "<Figure size 1440x720 with 1 Axes>"
      ]
     },
     "metadata": {
      "needs_background": "light"
     },
     "output_type": "display_data"
    }
   ],
   "source": [
    "# Code Cell 10\n",
    "# Create the plot inline\n",
    "%matplotlib inline\n",
    "from matplotlib import pyplot as plt\n",
    "# Enlarge the plot size\n",
    "plt.figure(figsize=(20,10))\n",
    "\n",
    "# Plot the scatter plot of the data set\n",
    "plt.plot(x,y, 'o', markersize = 14, label = \"# of Severe Sepsis Cases\") \n",
    "\n",
    "# Plot the centroid point\n",
    "plt.plot(x_mean,y_mean, '*', markersize = 30, color = \"r\") \n",
    "\n",
    "# Plot the linear regression line\n",
    "plt.plot(x, m*x + b, '-', label = 'Simple Linear Regression Line', linewidth = 4)\n",
    "\n",
    "# Create the x and y axis labels\n",
    "plt.ylabel('# of Severe Sepsis Cases', fontsize = 30)\n",
    "plt.xlabel('Year', fontsize = 30)\n",
    "\n",
    "# Enlarge x and y tick marks\n",
    "plt.xticks(fontsize = 20)\n",
    "plt.yticks(fontsize = 20)\n",
    "\n",
    "# Point out the centroid point in the plot\n",
    "plt.annotate('Centroid', xy=(x_mean-0.1, y_mean-5), xytext=(x_mean-3, y_mean-20), arrowprops=dict(facecolor='black', shrink=0.05), fontsize = 30)\n",
    "\n",
    "# Create legend\n",
    "plt.legend(loc = 'upper right', fontsize = 20)"
   ]
  },
  {
   "cell_type": "code",
   "execution_count": 24,
   "metadata": {},
   "outputs": [
    {
     "data": {
      "text/plain": [
       "LinearRegression(copy_X=True, fit_intercept=True, n_jobs=None, normalize=False)"
      ]
     },
     "execution_count": 24,
     "metadata": {},
     "output_type": "execute_result"
    }
   ],
   "source": [
    "y1x = data.iloc[:,0:1].values\n",
    "\n",
    "ny = data.iloc[:,1:2].values\n",
    "\n",
    "from sklearn.linear_model import LinearRegression\n",
    "\n",
    "lin = LinearRegression()\n",
    "lin.fit(y1x,ny)\n",
    "\n",
    "# Fitting Polynomial Regression to the dataset\n",
    "from sklearn.preprocessing import PolynomialFeatures\n",
    " \n",
    "poly = PolynomialFeatures(degree = 4)\n",
    "X_poly = poly.fit_transform(y1x)\n",
    " \n",
    "poly.fit(X_poly, )\n",
    "lin2 = LinearRegression()\n",
    "lin2.fit(X_poly, ny)"
   ]
  },
  {
   "cell_type": "code",
   "execution_count": 25,
   "metadata": {},
   "outputs": [
    {
     "data": {
      "image/png": "[encoded data removed]",
      "text/plain": [
       "<Figure size 432x288 with 1 Axes>"
      ]
     },
     "metadata": {
      "needs_background": "light"
     },
     "output_type": "display_data"
    }
   ],
   "source": [
    "# Visualising the Linear Regression results\n",
    "#%matplotlib inline\n",
    "#from matplotlib import pyplot as plt\n",
    "plt.scatter(y1x, ny, color = 'blue')\n",
    "\n",
    "plt.plot(x, lin.predict(y1x), color = 'red')\n",
    "plt.title('Linear Regression')\n",
    "plt.xlabel('Year')\n",
    "plt.ylabel('# of Hospital-acquired Severe Sepsis Cases')\n",
    " \n",
    "plt.show()"
   ]
  },
  {
   "cell_type": "code",
   "execution_count": 26,
   "metadata": {},
   "outputs": [
    {
     "data": {
      "text/plain": [
       "38148680.42559653"
      ]
     },
     "execution_count": 26,
     "metadata": {},
     "output_type": "execute_result"
    }
   ],
   "source": [
    "m=lin.predict(y1x)\n",
    "y= data.iloc[:,1:2].values\n",
    "from sklearn.metrics import mean_squared_error\n",
    "mean_squared_error(m,y) "
   ]
  },
  {
   "cell_type": "code",
   "execution_count": null,
   "metadata": {},
   "outputs": [],
   "source": []
  }
 ],
 "metadata": {
  "kernelspec": {
   "display_name": "Python 3",
   "language": "python",
   "name": "python3"
  },
  "language_info": {
   "codemirror_mode": {
    "name": "ipython",
    "version": 3
   },
   "file_extension": ".py",
   "mimetype": "text/x-python",
   "name": "python",
   "nbconvert_exporter": "python",
   "pygments_lexer": "ipython3",
   "version": "3.7.4"
  }
 },
 "nbformat": 4,
 "nbformat_minor": 2
}
